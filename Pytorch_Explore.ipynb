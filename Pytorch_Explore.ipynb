{
 "cells": [
  {
   "cell_type": "code",
   "execution_count": 1,
   "id": "uniform-routine",
   "metadata": {},
   "outputs": [],
   "source": [
    "#pytorch\n",
    "import torch\n",
    "import torch.nn as nn\n",
    "import torch.nn.functional as F\n",
    "import torch.optim as optim\n",
    "import numpy as np\n",
    "import time\n",
    "#MNIST data\n",
    "from torchvision import datasets, transforms\n",
    "from torch.utils.data import DataLoader"
   ]
  },
  {
   "cell_type": "code",
   "execution_count": 44,
   "id": "6f914456",
   "metadata": {},
   "outputs": [],
   "source": [
    "#local functions\n",
    "from data.load_data import load_mnist_data\n",
    "from data.my_dataset import MyDataset\n",
    "#Classifiers\n",
    "from src.models import Digit_Classifier\n",
    "from src.models import Dog_Classifier_FC\n",
    "from src.models import Dog_Classifier_Conv\n",
    "#plotting\n",
    "import matplotlib.pyplot as plt"
   ]
  },
  {
   "cell_type": "markdown",
   "id": "3d5b166d",
   "metadata": {},
   "source": [
    "## Training on MNIST"
   ]
  },
  {
   "cell_type": "code",
   "execution_count": 3,
   "id": "8987c9f8",
   "metadata": {},
   "outputs": [],
   "source": [
    "#load in data\n",
    "training_sizes = [500, 1000, 1500, 2000]\n",
    "#for size in training_sizes:\n",
    "size = 500\n",
    "tr_f, te_f, tr_t, te_t = load_mnist_data(10, 1, size/10)\n",
    "    "
   ]
  },
  {
   "cell_type": "code",
   "execution_count": 32,
   "id": "4e9c1c10",
   "metadata": {},
   "outputs": [],
   "source": [
    "params = {'batch_size': 500,\n",
    "          'shuffle': True,\n",
    "          'num_workers': 0}\n"
   ]
  },
  {
   "cell_type": "code",
   "execution_count": 33,
   "id": "e64d135d",
   "metadata": {},
   "outputs": [],
   "source": [
    "trainingset = MyDataset(tr_f, tr_t)\n",
    "training_generator = DataLoader(trainingset, **params)\n",
    "\n",
    "#useless bc testing set empty\n",
    "testingset = MyDataset(te_f, te_t)\n",
    "testing_generator = DataLoader(testingset, **params)"
   ]
  },
  {
   "cell_type": "code",
   "execution_count": 6,
   "id": "b27b8f38",
   "metadata": {},
   "outputs": [],
   "source": [
    "# len(training_generator) = 50 mini batches of 10"
   ]
  },
  {
   "cell_type": "code",
   "execution_count": 35,
   "id": "fd9cc6bf",
   "metadata": {},
   "outputs": [],
   "source": [
    "testingset = MyDataset(te_f, te_t)"
   ]
  },
  {
   "cell_type": "code",
   "execution_count": 36,
   "id": "ba891283",
   "metadata": {},
   "outputs": [
    {
     "data": {
      "text/plain": [
       "1000"
      ]
     },
     "execution_count": 36,
     "metadata": {},
     "output_type": "execute_result"
    }
   ],
   "source": [
    "len(testingset)"
   ]
  },
  {
   "cell_type": "code",
   "execution_count": null,
   "id": "393dc8ad",
   "metadata": {},
   "outputs": [],
   "source": []
  },
  {
   "cell_type": "code",
   "execution_count": null,
   "id": "9f30e901",
   "metadata": {},
   "outputs": [],
   "source": []
  },
  {
   "cell_type": "code",
   "execution_count": 7,
   "id": "3136e97b",
   "metadata": {},
   "outputs": [],
   "source": [
    "#use_cuda = torch.cuda.is_available()\n",
    "#device = torch.device(\"cuda:0\" if use_cuda else \"cpu\")\n",
    "device = torch.device(\"cpu\")"
   ]
  },
  {
   "cell_type": "code",
   "execution_count": null,
   "id": "fbdf15d5",
   "metadata": {},
   "outputs": [],
   "source": []
  },
  {
   "cell_type": "code",
   "execution_count": 8,
   "id": "53671ab8",
   "metadata": {},
   "outputs": [],
   "source": [
    "def train(epoch, trainloader, idx, optimizer, model, criterion):\n",
    "    for local_batch, local_labels in trainloader:\n",
    "        #optionally send to gpu/cpu\n",
    "        #local_batch, local_labels = local_batch.to(device), local_labels.to(device)\n",
    "        \n",
    "        #stupid line\n",
    "        local_batch = local_batch.float(); local_labels = local_labels.long()\n",
    "\n",
    "        #X = local_batch (10,784), Y = batch labels (10,)\n",
    "        \n",
    "        #zero grads\n",
    "        optimizer.zero_grad()\n",
    "        \n",
    "        #forward, backward, optimize\n",
    "        y_hat = model(local_batch)\n",
    "        loss = criterion(y_hat, local_labels)\n",
    "        \n",
    "        #record loss\n",
    "        losses[idx, epoch] = loss\n",
    "        \n",
    "        loss.backward()\n",
    "        optimizer.step()\n",
    "    \n",
    "#assertion errors / warnings? when workers > 0"
   ]
  },
  {
   "cell_type": "code",
   "execution_count": 9,
   "id": "682e1d8b",
   "metadata": {},
   "outputs": [],
   "source": [
    "def test(idx, testloader, model):\n",
    "    correct = 0\n",
    "    total = 0\n",
    "    # since we're not training, we don't need to calculate the gradients for our outputs\n",
    "    with torch.no_grad():\n",
    "        for data in testloader:\n",
    "            images, labels = data\n",
    "            images = images.float(); labels = labels.long()\n",
    "            # calculate outputs by running images through the network\n",
    "            outputs = model(images)\n",
    "            # the class with the highest energy is what we choose as prediction\n",
    "            _, predicted = torch.max(outputs.data, 1)\n",
    "            total += labels.size(0)\n",
    "            correct += (predicted == labels).sum().item()\n",
    "    \n",
    "    print('Accuracy of the network on the 1000 test images: %d %%' % (100 * correct / total))\n",
    "    \n",
    "    return (100 * correct / total)"
   ]
  },
  {
   "cell_type": "code",
   "execution_count": 10,
   "id": "d0b552c8",
   "metadata": {},
   "outputs": [],
   "source": [
    "#returns a time\n",
    "def run_epochs(idx, dataloader_obj, opt, model, cri):\n",
    "    start = time.time()\n",
    "    for epoch in range(100):\n",
    "        train(epoch, dataloader_obj, idx, opt, model, cri)\n",
    "    end = time.time()\n",
    "    \n",
    "    return end-start"
   ]
  },
  {
   "cell_type": "code",
   "execution_count": 11,
   "id": "53b8fc10",
   "metadata": {},
   "outputs": [],
   "source": [
    "# hoppers\n",
    "losses = np.empty((4, 100))\n",
    "training_sizes = [500, 1000, 1500, 2000]\n",
    "models = [None]*4\n",
    "time_elapsed = [None]*4 #in seconds\n",
    "accuracies = [None]*4 #in percentage"
   ]
  },
  {
   "cell_type": "code",
   "execution_count": 12,
   "id": "3e77e3da",
   "metadata": {},
   "outputs": [],
   "source": [
    "def train_on_mnist():\n",
    "    for idx, size in enumerate(training_sizes):\n",
    "        #load in training data\n",
    "        tr_f, _, tr_t, _ = load_mnist_data(10, 1, size/10)\n",
    "        \n",
    "        #make DataLoaders for training\n",
    "        trainingset = MyDataset(tr_f, tr_t)\n",
    "        training_generator = DataLoader(trainingset, **params)\n",
    "        \n",
    "        #init our classifier, loss, and optimizer\n",
    "        models[idx] = Digit_Classifier()\n",
    "        criterion = nn.CrossEntropyLoss()\n",
    "        optimizer = optim.SGD(models[idx].parameters(), lr=0.01)\n",
    "        \n",
    "        #run 100 epoch loop & record time\n",
    "        time_elapsed[idx] = run_epochs(idx, training_generator, optimizer, models[idx], criterion)\n",
    "        \n",
    "        #evaluate accuracy on testing set\n",
    "        accuracies[idx] = test(idx, testing_generator, models[idx])"
   ]
  },
  {
   "cell_type": "code",
   "execution_count": 37,
   "id": "4ad041d2",
   "metadata": {},
   "outputs": [],
   "source": [
    "#testing set + DataLoader\n",
    "_, te_f, _, te_t = load_mnist_data(10, 0, 100)\n",
    "testingset = MyDataset(te_f, te_t)\n",
    "testing_generator = DataLoader(testingset, 1000)"
   ]
  },
  {
   "cell_type": "code",
   "execution_count": 38,
   "id": "adbe1ca4",
   "metadata": {},
   "outputs": [
    {
     "name": "stdout",
     "output_type": "stream",
     "text": [
      "Accuracy of the network on the 1000 test images: 14 %\n",
      "Accuracy of the network on the 1000 test images: 28 %\n",
      "Accuracy of the network on the 1000 test images: 46 %\n",
      "Accuracy of the network on the 1000 test images: 48 %\n"
     ]
    }
   ],
   "source": [
    "train_on_mnist()"
   ]
  },
  {
   "cell_type": "code",
   "execution_count": 39,
   "id": "0d9f4196",
   "metadata": {},
   "outputs": [
    {
     "data": {
      "text/plain": [
       "[0.41965556144714355,\n",
       " 0.8396413326263428,\n",
       " 1.4331097602844238,\n",
       " 1.6884040832519531]"
      ]
     },
     "execution_count": 39,
     "metadata": {},
     "output_type": "execute_result"
    }
   ],
   "source": [
    "time_elapsed"
   ]
  },
  {
   "cell_type": "markdown",
   "id": "3226c5eb",
   "metadata": {},
   "source": [
    "### 1-1"
   ]
  },
  {
   "cell_type": "code",
   "execution_count": 16,
   "id": "b8e3077e",
   "metadata": {},
   "outputs": [
    {
     "data": {
      "text/plain": [
       "<matplotlib.collections.PathCollection at 0x7fadd04942e0>"
      ]
     },
     "execution_count": 16,
     "metadata": {},
     "output_type": "execute_result"
    },
    {
     "data": {
      "image/png": "[encoded data removed]",
      "text/plain": [
       "<Figure size 432x288 with 1 Axes>"
      ]
     },
     "metadata": {
      "needs_background": "light"
     },
     "output_type": "display_data"
    }
   ],
   "source": [
    "plt.scatter(training_sizes, time_elapsed)"
   ]
  },
  {
   "cell_type": "markdown",
   "id": "96a66f02",
   "metadata": {},
   "source": [
    "### 1-2\n",
    "Training time increases linearly with the number of training examples. To train the full MNIST training set of 60K images, it would take (60K/2K)*10seconds/60min/hr = 5hrs"
   ]
  },
  {
   "cell_type": "markdown",
   "id": "ed1bc5fc",
   "metadata": {},
   "source": [
    "### 1-3"
   ]
  },
  {
   "cell_type": "code",
   "execution_count": 17,
   "id": "a7ab4c4e",
   "metadata": {},
   "outputs": [
    {
     "data": {
      "text/plain": [
       "<matplotlib.collections.PathCollection at 0x7fadd039bfd0>"
      ]
     },
     "execution_count": 17,
     "metadata": {},
     "output_type": "execute_result"
    },
    {
     "data": {
      "image/png": "[encoded data removed]",
      "text/plain": [
       "<Figure size 432x288 with 1 Axes>"
      ]
     },
     "metadata": {
      "needs_background": "light"
     },
     "output_type": "display_data"
    }
   ],
   "source": [
    "plt.scatter(training_sizes, accuracies)"
   ]
  },
  {
   "cell_type": "markdown",
   "id": "02b06da9",
   "metadata": {},
   "source": [
    "### 1-4\n",
    "The training accuracy pretty much also increases linearly wrt number of training examples. Though This would mean that very soon the model will have a very high accuracy and probably this is overfitting."
   ]
  },
  {
   "cell_type": "markdown",
   "id": "8d055fa1",
   "metadata": {},
   "source": [
    "## Exploring DogSet"
   ]
  },
  {
   "cell_type": "code",
   "execution_count": 18,
   "id": "8aeae5e8",
   "metadata": {},
   "outputs": [],
   "source": [
    "from data.dogs import DogsDataset"
   ]
  },
  {
   "cell_type": "markdown",
   "id": "55540799",
   "metadata": {},
   "source": [
    "### 5\n",
    "7665 in train, 555 in test, 2000 in valid partition, 3 color channels, and 10 dog breeds. "
   ]
  },
  {
   "cell_type": "code",
   "execution_count": 22,
   "id": "41a87a01",
   "metadata": {},
   "outputs": [
    {
     "name": "stdout",
     "output_type": "stream",
     "text": [
      "loading train...\n",
      "loading valid...\n",
      "loading test...\n"
     ]
    }
   ],
   "source": [
    "todogs = DogsDataset('data/DogSet')"
   ]
  },
  {
   "cell_type": "code",
   "execution_count": 29,
   "id": "a9da54f5",
   "metadata": {},
   "outputs": [
    {
     "data": {
      "text/plain": [
       "(2000, 64, 64, 3)"
      ]
     },
     "execution_count": 29,
     "metadata": {},
     "output_type": "execute_result"
    }
   ],
   "source": [
    "todogs.get_validation_examples()[0].shape"
   ]
  },
  {
   "cell_type": "code",
   "execution_count": null,
   "id": "a967e5ae",
   "metadata": {},
   "outputs": [],
   "source": []
  },
  {
   "cell_type": "code",
   "execution_count": 46,
   "id": "fedf8cbb",
   "metadata": {},
   "outputs": [],
   "source": [
    "l = [1,2,3,4]"
   ]
  },
  {
   "cell_type": "code",
   "execution_count": 47,
   "id": "af6412e3",
   "metadata": {},
   "outputs": [],
   "source": [
    "try:\n",
    "    l[-1]\n",
    "except IndexError as e:\n",
    "    print(\"lol\")"
   ]
  },
  {
   "cell_type": "code",
   "execution_count": 42,
   "id": "3ceeb7fe",
   "metadata": {},
   "outputs": [
    {
     "data": {
      "text/plain": [
       "3"
      ]
     },
     "execution_count": 42,
     "metadata": {},
     "output_type": "execute_result"
    }
   ],
   "source": [
    "l[-2]"
   ]
  },
  {
   "cell_type": "code",
   "execution_count": 71,
   "id": "d6e75047",
   "metadata": {},
   "outputs": [],
   "source": [
    "l = []"
   ]
  },
  {
   "cell_type": "code",
   "execution_count": 56,
   "id": "824a522a",
   "metadata": {},
   "outputs": [
    {
     "data": {
      "text/plain": [
       "True"
      ]
     },
     "execution_count": 56,
     "metadata": {},
     "output_type": "execute_result"
    }
   ],
   "source": [
    "l == []"
   ]
  },
  {
   "cell_type": "code",
   "execution_count": 72,
   "id": "9d126a72",
   "metadata": {},
   "outputs": [
    {
     "name": "stdout",
     "output_type": "stream",
     "text": [
      "0\n",
      "hehe\n",
      "1\n",
      "hehe\n",
      "2\n"
     ]
    }
   ],
   "source": [
    "for i in range(5):\n",
    "    if i < 2:\n",
    "        print(i)\n",
    "        print('hehe')\n",
    "        pass\n",
    "    elif l[-1] > l[-2]:\n",
    "        print(i)\n",
    "        break\n",
    "    l.append(i)"
   ]
  },
  {
   "cell_type": "markdown",
   "id": "43863bef",
   "metadata": {},
   "source": [
    "## Convolutional layers"
   ]
  },
  {
   "cell_type": "markdown",
   "id": "ca756211",
   "metadata": {},
   "source": [
    "### 10"
   ]
  },
  {
   "cell_type": "code",
   "execution_count": 3,
   "id": "ca213eb6",
   "metadata": {},
   "outputs": [],
   "source": [
    "in_channels = 3\n",
    "out_channels = 16\n",
    "kernel_size = (5,5)\n",
    "stride = (1, 1)\n",
    "conv2d1 = nn.Conv2d(in_channels, out_channels, \n",
    "                   kernel_size, stride=stride, \n",
    "                  )"
   ]
  },
  {
   "cell_type": "code",
   "execution_count": 6,
   "id": "ce224de9",
   "metadata": {},
   "outputs": [
    {
     "data": {
      "text/plain": [
       "torch.Size([1, 64, 64, 3])"
      ]
     },
     "execution_count": 6,
     "metadata": {},
     "output_type": "execute_result"
    }
   ],
   "source": [
    "inputs = torch.Tensor(0.1 * np.ones((1,64,64,3)))\n",
    "inputs.shape"
   ]
  },
  {
   "cell_type": "code",
   "execution_count": 7,
   "id": "68ccf272",
   "metadata": {},
   "outputs": [
    {
     "ename": "RuntimeError",
     "evalue": "Given groups=1, weight of size [16, 3, 5, 5], expected input[1, 64, 64, 3] to have 3 channels, but got 64 channels instead",
     "output_type": "error",
     "traceback": [
      "\u001b[0;31m---------------------------------------------------------------------------\u001b[0m",
      "\u001b[0;31mRuntimeError\u001b[0m                              Traceback (most recent call last)",
      "\u001b[0;32m<ipython-input-7-9c8f34d4e551>\u001b[0m in \u001b[0;36m<module>\u001b[0;34m\u001b[0m\n\u001b[0;32m----> 1\u001b[0;31m \u001b[0mout\u001b[0m \u001b[0;34m=\u001b[0m \u001b[0mconv2d1\u001b[0m\u001b[0;34m(\u001b[0m\u001b[0minputs\u001b[0m\u001b[0;34m)\u001b[0m\u001b[0;34m\u001b[0m\u001b[0;34m\u001b[0m\u001b[0m\n\u001b[0m",
      "\u001b[0;32m~/miniconda3/envs/ml349/lib/python3.8/site-packages/torch/nn/modules/module.py\u001b[0m in \u001b[0;36m_call_impl\u001b[0;34m(self, *input, **kwargs)\u001b[0m\n\u001b[1;32m    887\u001b[0m             \u001b[0mresult\u001b[0m \u001b[0;34m=\u001b[0m \u001b[0mself\u001b[0m\u001b[0;34m.\u001b[0m\u001b[0m_slow_forward\u001b[0m\u001b[0;34m(\u001b[0m\u001b[0;34m*\u001b[0m\u001b[0minput\u001b[0m\u001b[0;34m,\u001b[0m \u001b[0;34m**\u001b[0m\u001b[0mkwargs\u001b[0m\u001b[0;34m)\u001b[0m\u001b[0;34m\u001b[0m\u001b[0;34m\u001b[0m\u001b[0m\n\u001b[1;32m    888\u001b[0m         \u001b[0;32melse\u001b[0m\u001b[0;34m:\u001b[0m\u001b[0;34m\u001b[0m\u001b[0;34m\u001b[0m\u001b[0m\n\u001b[0;32m--> 889\u001b[0;31m             \u001b[0mresult\u001b[0m \u001b[0;34m=\u001b[0m \u001b[0mself\u001b[0m\u001b[0;34m.\u001b[0m\u001b[0mforward\u001b[0m\u001b[0;34m(\u001b[0m\u001b[0;34m*\u001b[0m\u001b[0minput\u001b[0m\u001b[0;34m,\u001b[0m \u001b[0;34m**\u001b[0m\u001b[0mkwargs\u001b[0m\u001b[0;34m)\u001b[0m\u001b[0;34m\u001b[0m\u001b[0;34m\u001b[0m\u001b[0m\n\u001b[0m\u001b[1;32m    890\u001b[0m         for hook in itertools.chain(\n\u001b[1;32m    891\u001b[0m                 \u001b[0m_global_forward_hooks\u001b[0m\u001b[0;34m.\u001b[0m\u001b[0mvalues\u001b[0m\u001b[0;34m(\u001b[0m\u001b[0;34m)\u001b[0m\u001b[0;34m,\u001b[0m\u001b[0;34m\u001b[0m\u001b[0;34m\u001b[0m\u001b[0m\n",
      "\u001b[0;32m~/miniconda3/envs/ml349/lib/python3.8/site-packages/torch/nn/modules/conv.py\u001b[0m in \u001b[0;36mforward\u001b[0;34m(self, input)\u001b[0m\n\u001b[1;32m    397\u001b[0m \u001b[0;34m\u001b[0m\u001b[0m\n\u001b[1;32m    398\u001b[0m     \u001b[0;32mdef\u001b[0m \u001b[0mforward\u001b[0m\u001b[0;34m(\u001b[0m\u001b[0mself\u001b[0m\u001b[0;34m,\u001b[0m \u001b[0minput\u001b[0m\u001b[0;34m:\u001b[0m \u001b[0mTensor\u001b[0m\u001b[0;34m)\u001b[0m \u001b[0;34m->\u001b[0m \u001b[0mTensor\u001b[0m\u001b[0;34m:\u001b[0m\u001b[0;34m\u001b[0m\u001b[0;34m\u001b[0m\u001b[0m\n\u001b[0;32m--> 399\u001b[0;31m         \u001b[0;32mreturn\u001b[0m \u001b[0mself\u001b[0m\u001b[0;34m.\u001b[0m\u001b[0m_conv_forward\u001b[0m\u001b[0;34m(\u001b[0m\u001b[0minput\u001b[0m\u001b[0;34m,\u001b[0m \u001b[0mself\u001b[0m\u001b[0;34m.\u001b[0m\u001b[0mweight\u001b[0m\u001b[0;34m,\u001b[0m \u001b[0mself\u001b[0m\u001b[0;34m.\u001b[0m\u001b[0mbias\u001b[0m\u001b[0;34m)\u001b[0m\u001b[0;34m\u001b[0m\u001b[0;34m\u001b[0m\u001b[0m\n\u001b[0m\u001b[1;32m    400\u001b[0m \u001b[0;34m\u001b[0m\u001b[0m\n\u001b[1;32m    401\u001b[0m \u001b[0;32mclass\u001b[0m \u001b[0mConv3d\u001b[0m\u001b[0;34m(\u001b[0m\u001b[0m_ConvNd\u001b[0m\u001b[0;34m)\u001b[0m\u001b[0;34m:\u001b[0m\u001b[0;34m\u001b[0m\u001b[0;34m\u001b[0m\u001b[0m\n",
      "\u001b[0;32m~/miniconda3/envs/ml349/lib/python3.8/site-packages/torch/nn/modules/conv.py\u001b[0m in \u001b[0;36m_conv_forward\u001b[0;34m(self, input, weight, bias)\u001b[0m\n\u001b[1;32m    393\u001b[0m                             \u001b[0mweight\u001b[0m\u001b[0;34m,\u001b[0m \u001b[0mbias\u001b[0m\u001b[0;34m,\u001b[0m \u001b[0mself\u001b[0m\u001b[0;34m.\u001b[0m\u001b[0mstride\u001b[0m\u001b[0;34m,\u001b[0m\u001b[0;34m\u001b[0m\u001b[0;34m\u001b[0m\u001b[0m\n\u001b[1;32m    394\u001b[0m                             _pair(0), self.dilation, self.groups)\n\u001b[0;32m--> 395\u001b[0;31m         return F.conv2d(input, weight, bias, self.stride,\n\u001b[0m\u001b[1;32m    396\u001b[0m                         self.padding, self.dilation, self.groups)\n\u001b[1;32m    397\u001b[0m \u001b[0;34m\u001b[0m\u001b[0m\n",
      "\u001b[0;31mRuntimeError\u001b[0m: Given groups=1, weight of size [16, 3, 5, 5], expected input[1, 64, 64, 3] to have 3 channels, but got 64 channels instead"
     ]
    }
   ],
   "source": [
    "out = conv2d1(inputs)"
   ]
  },
  {
   "cell_type": "code",
   "execution_count": 169,
   "id": "4a81c3c6",
   "metadata": {},
   "outputs": [
    {
     "data": {
      "text/plain": [
       "torch.Size([16, 16, 28, 28])"
      ]
     },
     "execution_count": 169,
     "metadata": {},
     "output_type": "execute_result"
    }
   ],
   "source": [
    "out.shape"
   ]
  },
  {
   "cell_type": "code",
   "execution_count": 170,
   "id": "6e765f16",
   "metadata": {},
   "outputs": [],
   "source": [
    "inputs = F.max_pool2d(F.relu(conv2d1(inputs)), 2)"
   ]
  },
  {
   "cell_type": "code",
   "execution_count": 171,
   "id": "81cbb8c7",
   "metadata": {},
   "outputs": [
    {
     "data": {
      "text/plain": [
       "torch.Size([16, 16, 14, 14])"
      ]
     },
     "execution_count": 171,
     "metadata": {},
     "output_type": "execute_result"
    }
   ],
   "source": [
    "inputs.shape"
   ]
  },
  {
   "cell_type": "code",
   "execution_count": 172,
   "id": "98b3de16",
   "metadata": {},
   "outputs": [],
   "source": [
    "in_channels = 16\n",
    "out_channels = 32\n",
    "kernel_size = (5, 5)\n",
    "stride = (1, 1)\n",
    "conv2d2 = nn.Conv2d(in_channels, out_channels, \n",
    "                   kernel_size, stride=stride, \n",
    "                  )"
   ]
  },
  {
   "cell_type": "code",
   "execution_count": 173,
   "id": "ae40e3f2",
   "metadata": {},
   "outputs": [],
   "source": [
    "inputs = F.max_pool2d(F.relu(conv2d2(inputs)), 2)"
   ]
  },
  {
   "cell_type": "code",
   "execution_count": 174,
   "id": "c1b3c66b",
   "metadata": {},
   "outputs": [
    {
     "data": {
      "text/plain": [
       "torch.Size([16, 32, 5, 5])"
      ]
     },
     "execution_count": 174,
     "metadata": {},
     "output_type": "execute_result"
    }
   ],
   "source": [
    "inputs.shape"
   ]
  },
  {
   "cell_type": "code",
   "execution_count": 177,
   "id": "75200831",
   "metadata": {},
   "outputs": [],
   "source": [
    "fc3 = nn.Linear(5, 10)"
   ]
  },
  {
   "cell_type": "code",
   "execution_count": 178,
   "id": "a6cf8a12",
   "metadata": {},
   "outputs": [],
   "source": [
    "inputs = fc3(inputs)"
   ]
  },
  {
   "cell_type": "code",
   "execution_count": 179,
   "id": "4df2b9f3",
   "metadata": {},
   "outputs": [
    {
     "data": {
      "text/plain": [
       "torch.Size([16, 32, 5, 10])"
      ]
     },
     "execution_count": 179,
     "metadata": {},
     "output_type": "execute_result"
    }
   ],
   "source": [
    "inputs.shape"
   ]
  },
  {
   "cell_type": "code",
   "execution_count": null,
   "id": "0b9e3bcc",
   "metadata": {},
   "outputs": [],
   "source": []
  },
  {
   "cell_type": "code",
   "execution_count": null,
   "id": "a3140b7f",
   "metadata": {},
   "outputs": [],
   "source": []
  },
  {
   "cell_type": "code",
   "execution_count": null,
   "id": "5d209d78",
   "metadata": {},
   "outputs": [],
   "source": []
  },
  {
   "cell_type": "code",
   "execution_count": 31,
   "id": "2e9683c2",
   "metadata": {},
   "outputs": [
    {
     "data": {
      "text/plain": [
       "torch.Size([1, 3, 64, 64])"
      ]
     },
     "execution_count": 31,
     "metadata": {},
     "output_type": "execute_result"
    }
   ],
   "source": [
    "ins = torch.rand(3,64,64).view(-1, 3, 64, 64)\n",
    "ins.shape"
   ]
  },
  {
   "cell_type": "code",
   "execution_count": 32,
   "id": "ec2b9034",
   "metadata": {},
   "outputs": [],
   "source": [
    "c1 = nn.Conv2d(3, 16, 5, 1)"
   ]
  },
  {
   "cell_type": "code",
   "execution_count": 33,
   "id": "b8f03f26",
   "metadata": {},
   "outputs": [],
   "source": [
    "c2 = nn.Conv2d(16, 32, 5, 1)"
   ]
  },
  {
   "cell_type": "code",
   "execution_count": 34,
   "id": "0b35eb80",
   "metadata": {},
   "outputs": [
    {
     "data": {
      "text/plain": [
       "torch.Size([1, 16, 30, 30])"
      ]
     },
     "execution_count": 34,
     "metadata": {},
     "output_type": "execute_result"
    }
   ],
   "source": [
    "ins = F.max_pool2d(F.relu(c1(ins)), 2)\n",
    "ins.shape"
   ]
  },
  {
   "cell_type": "code",
   "execution_count": 35,
   "id": "55e6ad30",
   "metadata": {},
   "outputs": [
    {
     "data": {
      "text/plain": [
       "torch.Size([1, 32, 13, 13])"
      ]
     },
     "execution_count": 35,
     "metadata": {},
     "output_type": "execute_result"
    }
   ],
   "source": [
    "ins = F.max_pool2d(F.relu(c2(ins)), 2)\n",
    "ins.shape"
   ]
  },
  {
   "cell_type": "code",
   "execution_count": 36,
   "id": "4de3914e",
   "metadata": {},
   "outputs": [],
   "source": [
    "fc3 = nn.Linear(13, 10)"
   ]
  },
  {
   "cell_type": "code",
   "execution_count": 37,
   "id": "2158f6b7",
   "metadata": {},
   "outputs": [
    {
     "data": {
      "text/plain": [
       "torch.Size([1, 32, 13, 10])"
      ]
     },
     "execution_count": 37,
     "metadata": {},
     "output_type": "execute_result"
    }
   ],
   "source": [
    "ins = fc3(ins)\n",
    "ins.shape"
   ]
  },
  {
   "cell_type": "code",
   "execution_count": null,
   "id": "c0dd2f5e",
   "metadata": {},
   "outputs": [],
   "source": []
  },
  {
   "cell_type": "code",
   "execution_count": null,
   "id": "35268808",
   "metadata": {},
   "outputs": [],
   "source": []
  },
  {
   "cell_type": "markdown",
   "id": "08635cb5",
   "metadata": {},
   "source": [
    "Input to conv2d:\n",
    "(batchsize, channels, height, width)\n",
    "Output:\n",
    "(batchsize, channels_out, height_out, width_out) for outs based on documentation math"
   ]
  },
  {
   "cell_type": "code",
   "execution_count": null,
   "id": "6124b8fc",
   "metadata": {},
   "outputs": [],
   "source": []
  },
  {
   "cell_type": "code",
   "execution_count": 38,
   "id": "7423c511",
   "metadata": {},
   "outputs": [
    {
     "name": "stdout",
     "output_type": "stream",
     "text": [
      "torch.Size([4, 3, 2, 1])\n",
      "torch.Size([4, 3, 2, 1])\n"
     ]
    }
   ],
   "source": [
    "a = torch.rand(1,2,3,4)\n",
    "print(a.transpose(0,3).transpose(1,2).size())\n",
    "print(a.permute(3,2,1,0).size())"
   ]
  },
  {
   "cell_type": "code",
   "execution_count": 43,
   "id": "367f163c",
   "metadata": {},
   "outputs": [
    {
     "data": {
      "text/plain": [
       "torch.Size([1, 2, 3, 4])"
      ]
     },
     "execution_count": 43,
     "metadata": {},
     "output_type": "execute_result"
    }
   ],
   "source": [
    "a.shape\n",
    "a = torch.transpose(a, 2, 3).shape\n",
    "a.shape"
   ]
  },
  {
   "cell_type": "code",
   "execution_count": null,
   "id": "ff77fbc1",
   "metadata": {},
   "outputs": [],
   "source": []
  },
  {
   "cell_type": "code",
   "execution_count": null,
   "id": "fa90d8e9",
   "metadata": {},
   "outputs": [],
   "source": []
  },
  {
   "cell_type": "code",
   "execution_count": null,
   "id": "f0905ef5",
   "metadata": {},
   "outputs": [],
   "source": []
  }
 ],
 "metadata": {
  "kernelspec": {
   "display_name": "Python 3",
   "language": "python",
   "name": "python3"
  },
  "language_info": {
   "codemirror_mode": {
    "name": "ipython",
    "version": 3
   },
   "file_extension": ".py",
   "mimetype": "text/x-python",
   "name": "python",
   "nbconvert_exporter": "python",
   "pygments_lexer": "ipython3",
   "version": "3.8.8"
  }
 },
 "nbformat": 4,
 "nbformat_minor": 5
}
